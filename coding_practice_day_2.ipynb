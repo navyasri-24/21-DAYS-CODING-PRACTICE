{
  "nbformat": 4,
  "nbformat_minor": 0,
  "metadata": {
    "colab": {
      "provenance": []
    },
    "kernelspec": {
      "name": "python3",
      "display_name": "Python 3"
    },
    "language_info": {
      "name": "python"
    }
  },
  "cells": [
    {
      "cell_type": "code",
      "execution_count": null,
      "metadata": {
        "id": "IwBQSakXq2AQ",
        "colab": {
          "base_uri": "https://localhost:8080/"
        },
        "outputId": "10465575-a6f1-4a8f-90ce-90ecffa229e8"
      },
      "outputs": [
        {
          "output_type": "stream",
          "name": "stdout",
          "text": [
            "Enter length of the Fibonacci sequence: 6\n",
            "Enter the first number: 3\n",
            "Enter the second number: 5\n",
            "3\n",
            "5\n",
            "8\n",
            "13\n",
            "21\n",
            "34\n"
          ]
        }
      ],
      "source": [
        "# program for printing 1st n fibonacci numbers\n",
        "n = int(input(\"Enter length of the Fibonacci sequence: \"))\n",
        "n1 = int(input(\"Enter the first number: \"))\n",
        "n2 = int(input(\"Enter the second number: \"))\n",
        "count = 2\n",
        "\n",
        "if n <= 0:\n",
        "    print(\"Please enter a positive number for the length of the Fibonacci sequence.\")\n",
        "elif n == 1:\n",
        "    print(n1)\n",
        "elif n == 2:\n",
        "    print(n1)\n",
        "    print(n2)\n",
        "else:\n",
        "    print(n1)\n",
        "    print(n2)\n",
        "    while count < n:\n",
        "        n3 = n1 + n2\n",
        "        print(n3)\n",
        "        count += 1\n",
        "        n1 = n2\n",
        "        n2 = n3\n",
        "5\n"
      ]
    },
    {
      "cell_type": "code",
      "source": [
        "#printing even and odd numbers in alist using for loop\n",
        "list_1=[1,2,3,4,5,6,7,8,9,10,\"stftgfvg\"]\n",
        "for i in list_1:\n",
        "  if isinstance(i, str):\n",
        "    print(i,\" only digits are acceptable\")\n",
        "  elif i%2==0:\n",
        "    print(i,\" is even\")\n",
        "  else:\n",
        "    print(i,\" is odd\")"
      ],
      "metadata": {
        "colab": {
          "base_uri": "https://localhost:8080/"
        },
        "id": "_69WW9ogdQSw",
        "outputId": "42ce3662-a195-4f1c-d50d-f91c725a9494"
      },
      "execution_count": 1,
      "outputs": [
        {
          "output_type": "stream",
          "name": "stdout",
          "text": [
            "1  is odd\n",
            "2  is even\n",
            "3  is odd\n",
            "4  is even\n",
            "5  is odd\n",
            "6  is even\n",
            "7  is odd\n",
            "8  is even\n",
            "9  is odd\n",
            "10  is even\n",
            "stftgfvg  only digits are acceptable\n"
          ]
        }
      ]
    },
    {
      "cell_type": "code",
      "source": [
        "#printing squares of a numbers using for loop\n",
        "\n",
        "for i in range(1,6):\n",
        "  i*=i\n",
        "  print(\"squares is \",i)"
      ],
      "metadata": {
        "id": "ZaSCkLwcdQVe",
        "colab": {
          "base_uri": "https://localhost:8080/"
        },
        "outputId": "7c50df62-321c-4471-f939-831409c476db"
      },
      "execution_count": 2,
      "outputs": [
        {
          "output_type": "stream",
          "name": "stdout",
          "text": [
            "squares is  1\n",
            "squares is  4\n",
            "squares is  9\n",
            "squares is  16\n",
            "squares is  25\n"
          ]
        }
      ]
    },
    {
      "cell_type": "code",
      "source": [
        "#printing length of a string using for loop\n",
        "string=input(\"enter a string:\")\n",
        "count=0\n",
        "for char in string:\n",
        "  count+=1\n",
        "print(\"length of \", string,\" is \",count)\n"
      ],
      "metadata": {
        "id": "-JyUJB1WdQYO",
        "colab": {
          "base_uri": "https://localhost:8080/"
        },
        "outputId": "9c9ea67b-6e1c-4bae-9ab4-07a369595716"
      },
      "execution_count": 3,
      "outputs": [
        {
          "output_type": "stream",
          "name": "stdout",
          "text": [
            "enter a string:sdfcgvbhygtfrdcvg\n",
            "length of  sdfcgvbhygtfrdcvg  is  17\n"
          ]
        }
      ]
    },
    {
      "cell_type": "code",
      "source": [
        "#printing avergae of list numbers\n",
        "list=[1,2,3,4,5,6]\n",
        "count=0\n",
        "for i in list:\n",
        "  count+=i\n",
        "print(\"the average is\",count/2)\n"
      ],
      "metadata": {
        "id": "fRvrxzDDdQbw",
        "colab": {
          "base_uri": "https://localhost:8080/"
        },
        "outputId": "d3adb0ef-658a-409d-e60e-67ff56a0ac0b"
      },
      "execution_count": 4,
      "outputs": [
        {
          "output_type": "stream",
          "name": "stdout",
          "text": [
            "the average is 10.5\n"
          ]
        }
      ]
    }
  ]
}