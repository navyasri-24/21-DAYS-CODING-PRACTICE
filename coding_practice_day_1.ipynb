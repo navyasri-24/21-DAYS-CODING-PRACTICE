{
  "nbformat": 4,
  "nbformat_minor": 0,
  "metadata": {
    "colab": {
      "provenance": []
    },
    "kernelspec": {
      "name": "python3",
      "display_name": "Python 3"
    },
    "language_info": {
      "name": "python"
    }
  },
  "cells": [
    {
      "cell_type": "code",
      "execution_count": null,
      "metadata": {
        "colab": {
          "base_uri": "https://localhost:8080/"
        },
        "id": "bP33PQbfHLZK",
        "outputId": "07e769d9-d591-49a6-a8ca-dd85e31ec86f"
      },
      "outputs": [
        {
          "output_type": "stream",
          "name": "stdout",
          "text": [
            "1\n",
            "2\n",
            "3\n",
            "4\n",
            "5\n",
            "6\n",
            "7\n",
            "8\n",
            "9\n",
            "10\n"
          ]
        }
      ],
      "source": [
        "# printing 1-10 number using for loop\n",
        "for i in range(1,11):\n",
        "  print(i)"
      ]
    },
    {
      "cell_type": "code",
      "source": [
        "#suming all numbers in list using for loop\n",
        "list_1=[1,2,3,4,5,56,\"dfgh56.45,\",\"xdcfvgbhn\",456]\n",
        "count=0\n",
        "for i in list_1:\n",
        "  if i==str(i):\n",
        "    print(\"because its a string so cant take it\")\n",
        "\n",
        "  else:\n",
        "    count+=i\n",
        "print(\"the sum of numbers in list is:\",count)\n"
      ],
      "metadata": {
        "colab": {
          "base_uri": "https://localhost:8080/"
        },
        "id": "SZ3fsb1NHlww",
        "outputId": "8ad287a3-9e41-4d39-eae2-f2ce7969bc00"
      },
      "execution_count": null,
      "outputs": [
        {
          "output_type": "stream",
          "name": "stdout",
          "text": [
            "because its a string so cant take it\n",
            "because its a string so cant take it\n",
            "the sum of numbers in list is: 527\n"
          ]
        }
      ]
    },
    {
      "cell_type": "code",
      "source": [
        "# printing reversed characters in string using for loop\n",
        "str_1=input()\n",
        "rev_str=reversed(str_1)\n",
        "for i in rev_str:\n",
        "  print(i)"
      ],
      "metadata": {
        "colab": {
          "base_uri": "https://localhost:8080/"
        },
        "id": "cIOatVMHHmCX",
        "outputId": "119cbddd-0ea6-4a0c-d320-425101edc847"
      },
      "execution_count": null,
      "outputs": [
        {
          "output_type": "stream",
          "name": "stdout",
          "text": [
            "sdfgbhn\n",
            "n\n",
            "h\n",
            "b\n",
            "g\n",
            "f\n",
            "d\n",
            "s\n"
          ]
        }
      ]
    },
    {
      "cell_type": "code",
      "source": [
        "# printing factorial of a given number using for loop\n",
        "number=int(input(\"enter a number:\"))\n",
        "fact=1\n",
        "for i in range(1,number+1):\n",
        "  if number ==0 or number==1:\n",
        "    print(\"fcatorial of \",i,\" is 1\")\n",
        "  else:\n",
        "    fact*=i\n",
        "print(\"factorial of \",number,\" is \",fact)"
      ],
      "metadata": {
        "colab": {
          "base_uri": "https://localhost:8080/"
        },
        "id": "tZxeKcSeHmE9",
        "outputId": "be874e3c-678b-41b6-80be-1204aab5fada"
      },
      "execution_count": null,
      "outputs": [
        {
          "output_type": "stream",
          "name": "stdout",
          "text": [
            "enter a number:5\n",
            "factorial of  5  is  120\n"
          ]
        }
      ]
    },
    {
      "cell_type": "code",
      "source": [
        "# PRINTING MULTIPLICATION TABLE FOR GIVEN NUMBER USING FOR LOOP\n",
        "num=int(input(\"enter a number:\"))\n",
        "for i in range(1,11):\n",
        "  print(\"{0} x {1} = {2}\".format(num,i,num*i))"
      ],
      "metadata": {
        "id": "K3MGN1yaHmK6",
        "colab": {
          "base_uri": "https://localhost:8080/"
        },
        "outputId": "d64782d8-87c2-4f73-9580-ff6b5de92d8f"
      },
      "execution_count": null,
      "outputs": [
        {
          "output_type": "stream",
          "name": "stdout",
          "text": [
            "enter a number:6\n",
            "6 x 1 = 6\n",
            "6 x 2 = 12\n",
            "6 x 3 = 18\n",
            "6 x 4 = 24\n",
            "6 x 5 = 30\n",
            "6 x 6 = 36\n",
            "6 x 7 = 42\n",
            "6 x 8 = 48\n",
            "6 x 9 = 54\n",
            "6 x 10 = 60\n"
          ]
        }
      ]
    },
    {
      "cell_type": "code",
      "source": [],
      "metadata": {
        "id": "fhVkIScI6lL4"
      },
      "execution_count": null,
      "outputs": []
    }
  ]
}